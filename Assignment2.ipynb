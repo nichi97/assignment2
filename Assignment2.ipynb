{
 "cells": [
  {
   "cell_type": "code",
   "execution_count": 55,
   "metadata": {},
   "outputs": [],
   "source": [
    "# ----------------------------------------- import libraries ------------------------------------------------------\n",
    "import random as rd\n",
    "import numpy as np\n",
    "import string\n",
    "from sklearn import svm\n",
    "from sklearn.metrics import confusion_matrix\n",
    "from sklearn.metrics import f1_score\n"
   ]
  },
  {
   "cell_type": "code",
   "execution_count": 2,
   "metadata": {
    "collapsed": true
   },
   "outputs": [],
   "source": [
    "# ------------------------------------------- import data --------------------------------------------------\n",
    "\n",
    "import csv\n",
    "data=[]\n",
    "with open('train.csv', 'r', encoding=\"utf8\") as f:\n",
    "    reader = csv.reader(f)\n",
    "    data = list(reader)\n",
    "    f.close()\n",
    "    \n",
    "with open('bad-words.txt', 'r', encoding = 'utf8') as f:\n",
    "    reader = csv.reader(f)\n",
    "    bad_words = list(reader)\n",
    "    f.close()\n",
    "    \n",
    "data = data[1:]\n",
    "bad_words = bad_words[1:]\n",
    "bad_words = [b[0] for b in bad_words]"
   ]
  },
  {
   "cell_type": "code",
   "execution_count": 3,
   "metadata": {
    "collapsed": true
   },
   "outputs": [],
   "source": [
    "# ----------------------------------- split data into training and validation set ---------------------------\n",
    "rd.shuffle(data)\n",
    "train = data[:50000]\n",
    "vali = data[50000:100000]\n"
   ]
  },
  {
   "cell_type": "code",
   "execution_count": 22,
   "metadata": {
    "collapsed": true
   },
   "outputs": [],
   "source": [
    "punc = string.punctuation\n",
    "def strToVct(review):\n",
    "    \"\"\"\n",
    "    turn a review string into list of words (lower case and no punc)\n",
    "    \"\"\"\n",
    "    review = review.lower()\n",
    "    review = [r for r in review if r not in punc]\n",
    "    review = \"\".join(review)\n",
    "    review = review.strip()\n",
    "    review = review.split()\n",
    "    return review"
   ]
  },
  {
   "cell_type": "code",
   "execution_count": 23,
   "metadata": {
    "collapsed": true
   },
   "outputs": [],
   "source": [
    "bad_words_set = set(bad_words)\n",
    "\n",
    "def feature(review):\n",
    "    \n",
    "    feat = [0]*len(bad_words)\n",
    "    ls = strToVct(review)\n",
    "    for i in range(len(bad_words)):\n",
    "        for w in ls:\n",
    "            if w == bad_words[i]:\n",
    "                feat[i] += 1\n",
    "    return feat\n",
    "    "
   ]
  },
  {
   "cell_type": "code",
   "execution_count": 24,
   "metadata": {},
   "outputs": [],
   "source": [
    "# ------------------------------------------ Feature Engineering -------------------------------------------------\n",
    "reviews = [d[1] for d in train]\n",
    "X = [feature(d) for d in reviews]\n",
    "y = [int(d[2]) for d in train]\n",
    "y_vali = [int(d[2]) for d in vali]\n",
    "X_vali = [feature(d[1]) for d in vali]\n"
   ]
  },
  {
   "cell_type": "code",
   "execution_count": 38,
   "metadata": {},
   "outputs": [
    {
     "data": {
      "text/plain": [
       "LinearSVC(C=100, class_weight=None, dual=True, fit_intercept=True,\n",
       "     intercept_scaling=1, loss='squared_hinge', max_iter=1000,\n",
       "     multi_class='ovr', penalty='l2', random_state=None, tol=0.0001,\n",
       "     verbose=0)"
      ]
     },
     "execution_count": 38,
     "metadata": {},
     "output_type": "execute_result"
    }
   ],
   "source": [
    "# -----------------------------------------Fit the Model ------------------------------------------------\n",
    "clf = svm.LinearSVC(C = 100)\n",
    "clf.fit(X,y)\n",
    "\n"
   ]
  },
  {
   "cell_type": "code",
   "execution_count": 53,
   "metadata": {},
   "outputs": [
    {
     "data": {
      "text/plain": [
       "array([[46589,   303],\n",
       "       [ 2776,   332]])"
      ]
     },
     "execution_count": 53,
     "metadata": {},
     "output_type": "execute_result"
    }
   ],
   "source": [
    "y_pred = clf.predict(X_vali)\n",
    "confusion_matrix(y_vali,y_pred)"
   ]
  },
  {
   "cell_type": "code",
   "execution_count": 57,
   "metadata": {},
   "outputs": [
    {
     "data": {
      "text/plain": [
       "0.17739780924392201"
      ]
     },
     "execution_count": 57,
     "metadata": {},
     "output_type": "execute_result"
    }
   ],
   "source": [
    "f1_score(y_vali, y_pred)"
   ]
  }
 ],
 "metadata": {
  "kernelspec": {
   "display_name": "Python 3",
   "language": "python",
   "name": "python3"
  },
  "language_info": {
   "codemirror_mode": {
    "name": "ipython",
    "version": 3
   },
   "file_extension": ".py",
   "mimetype": "text/x-python",
   "name": "python",
   "nbconvert_exporter": "python",
   "pygments_lexer": "ipython3",
   "version": "3.6.1"
  }
 },
 "nbformat": 4,
 "nbformat_minor": 2
}
